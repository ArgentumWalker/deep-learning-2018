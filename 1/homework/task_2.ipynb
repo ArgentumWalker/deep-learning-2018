{
 "cells": [
  {
   "cell_type": "markdown",
   "metadata": {},
   "source": [
    "## Assigment: Neural network basics"
   ]
  },
  {
   "cell_type": "markdown",
   "metadata": {},
   "source": [
    "Soft deadline: 16.09.18 at 23.59\n",
    "\n",
    "Hard deadline: 18.09.18 at 23.59"
   ]
  },
  {
   "cell_type": "markdown",
   "metadata": {},
   "source": [
    "For this task I intentionally provide no boilerplate code, because very puprpose of this task is getting you comforatable with basic code template for desiging NNs in pytorch. I higly recommend you to revisit all the last seminar materials."
   ]
  },
  {
   "cell_type": "markdown",
   "metadata": {},
   "source": [
    "#### Task\n",
    "\n",
    "* Implement simple **fully-convolutional** neural architecture for classification. Make sure it is small enought to run on your home machine.\n",
    "* Provide dataset visulization.\n",
    "* Provide train/test split and validation\n",
    "\n",
    "#### Requirements\n",
    "\n",
    "* Architecture should derive from `torch.nn.Module`\n",
    "* Use `torch.utils.data.Dataset` and `torch.utils.data.DataLoader`. But if you manage co simplify this step using dataset `torchivision`, I will only encourage you.\n",
    "* Implement at least one data transformer, but make sure it is useful for classification task.\n",
    "* Use FashionMNIST dataset https://github.com/zalandoresearch/fashion-mnist\n",
    "* Make sure you can fix random seed for all components of your code to make experiments reproducible\n",
    "* Since you architecure should be fully-convolutional, make sure it does not depend on input size."
   ]
  },
  {
   "cell_type": "code",
   "execution_count": 6,
   "metadata": {},
   "outputs": [],
   "source": [
    "from torch.nn import Module\n",
    "from torch.nn import Sequential\n",
    "from torch.nn import Conv2d\n",
    "from torch.nn import MaxPool2d\n",
    "from torch.nn import Linear\n",
    "from torch.nn import Softmax\n",
    "from torch.nn import ELU\n",
    "\n",
    "from torch.nn import CrossEntropyLoss\n",
    "from torch.optim import Adam\n",
    "\n",
    "import torch\n",
    "\n",
    "from torchvision.datasets import FashionMNIST\n",
    "from torchvision.utils import make_grid\n",
    "from torch.utils.data import DataLoader\n",
    "import torchvision.transforms as transforms\n",
    "\n",
    "from IPython import display\n",
    "import matplotlib.pyplot as plt\n",
    "import numpy as np\n",
    "\n",
    "# Init\n",
    "torch.cuda.init()\n",
    "\n",
    "def get_fashion_dataset_transform():\n",
    "    dataset = FashionMNIST(\"./fashion_mnist\", train=True, download=True, transform=transforms.ToTensor())\n",
    "    dataloader = torch.utils.data.DataLoader(dataset, batch_size=4, shuffle=True, num_workers=3)\n",
    "    mean = torch.zeros(1)\n",
    "    std = torch.zeros(1)\n",
    "    divider = 0\n",
    "    for batch, _ in iter(dataloader):\n",
    "        mean += batch.mean()\n",
    "        std += batch.std()\n",
    "        divider += 1\n",
    "    mean /= divider\n",
    "    std /= divider\n",
    "    return transforms.Compose([transforms.ToTensor(),\n",
    "                               transforms.Normalize(mean, std)])\n",
    "\n",
    "transformer = get_fashion_dataset_transform()\n",
    "\n",
    "train_dataset = FashionMNIST(\"./fashion_mnist\", train=True, download=True, transform=transformer)\n",
    "test_dataset = FashionMNIST(\"./fashion_mnist\", train=False, download=True, transform=transformer)"
   ]
  },
  {
   "cell_type": "raw",
   "metadata": {},
   "source": []
  },
  {
   "cell_type": "code",
   "execution_count": 18,
   "metadata": {},
   "outputs": [],
   "source": [
    "def visualize(loss, accuracy):    \n",
    "    plt.clf()\n",
    "\n",
    "    #plt.subplot(2,1,1)\n",
    "    #images = make_grid(X)\n",
    "    #plt.imshow(((images + 1) / 2).numpy())\n",
    "\n",
    "    plt.subplot(1,2,1)\n",
    "    plt.title(\"Accuracy\")\n",
    "    plt.plot(accuracy[:, 0], label=\"Train\")\n",
    "    plt.plot(accuracy[:, 1], label=\"Test\")\n",
    "    plt.grid()\n",
    "    ymin, ymax = plt.ylim()\n",
    "    plt.ylim(0., 1.)\n",
    "    plt.legend()\n",
    "    \n",
    "    plt.subplot(1,2,2)\n",
    "    plt.title(\"Loss\")\n",
    "    plt.plot(loss)\n",
    "    plt.grid()\n",
    "    ymin, ymax = plt.ylim()\n",
    "    plt.ylim(0, ymax)    \n",
    "\n",
    "    display.clear_output(wait=True)\n",
    "    display.display(plt.gcf())\n",
    "    \n",
    "def train(model, optim, loss_function, train_loader, test_loader, epoches=100, test_batches_ctn=4):\n",
    "    loss_array = np.zeros(epoches)\n",
    "    accuracy = np.zeros((epoches, 2))\n",
    "    \n",
    "    plt.figure(figsize=(16,5))\n",
    "    \n",
    "    for epoch in range(epoches):\n",
    "        for data, labels in iter(train_loader):\n",
    "            optim.zero_grad()\n",
    "            loss = loss_function(model(data.cuda()), labels.cuda())\n",
    "            loss.backward()\n",
    "            optim.step()\n",
    "        \n",
    "        train_loader_iter = iter(train_loader)\n",
    "        test_loader_iter = iter(test_loader)\n",
    "        avg_loss = 0.\n",
    "        avg_train_accuracy = 0.\n",
    "        avg_test_accuracy = 0.\n",
    "        \n",
    "        for _ in range(test_batches_ctn):\n",
    "            train_data, train_labels = train_loader_iter.next()\n",
    "            test_data, test_labels = test_loader_iter.next()\n",
    "            train_pred = model(train_data.cuda())\n",
    "            test_pred = model(test_data.cuda())\n",
    "            loss = loss_function(train_pred, train_labels.cuda())\n",
    "            avg_loss += loss.item()\n",
    "            avg_train_accuracy += (torch.max(train_pred, 1)[1] == train_labels.cuda()).sum().item() / len(train_data)\n",
    "            avg_test_accuracy += (torch.max(test_pred, 1)[1] == test_labels.cuda()).sum().item() / len(test_data)\n",
    "        \n",
    "        loss_array[epoch] = avg_loss / test_batches_ctn\n",
    "        accuracy[epoch][0] = avg_train_accuracy / test_batches_ctn\n",
    "        print(avg_train_accuracy / test_batches_ctn)\n",
    "        accuracy[epoch][1] = avg_test_accuracy / test_batches_ctn\n",
    "        visualize(loss_array, accuracy)\n",
    "    plt.clf()\n",
    "    return accuracy"
   ]
  },
  {
   "cell_type": "code",
   "execution_count": 41,
   "metadata": {},
   "outputs": [],
   "source": [
    "class Flatten(Module):\n",
    "    def forward(self, input):\n",
    "        return input.view(input.size(0), -1)\n",
    "\n",
    "\n",
    "class FashionConvolutionModule(Module):\n",
    "    def __init__(self, classes_count, channels=1):\n",
    "        super().__init__()\n",
    "        self.seq = Sequential(\n",
    "            Conv2d(channels, 20, (5, 5), 1), ELU(),\n",
    "            Conv2d(20, 30, (5, 5), 3), ELU(),\n",
    "            Flatten(), Linear(1470, 200), ELU(),\n",
    "            Linear(200, classes_count)\n",
    "        )\n",
    "\n",
    "    def forward(self, input):\n",
    "        return self.seq(input)\n",
    "\n",
    "model = FashionConvolutionModule(10)\n",
    "model.cuda()\n",
    "loss_function = CrossEntropyLoss()\n",
    "opt = Adam(model.parameters())"
   ]
  },
  {
   "cell_type": "code",
   "execution_count": 42,
   "metadata": {
    "scrolled": false
   },
   "outputs": [
    {
     "data": {
      "image/png": "[encoded data removed]",
      "text/plain": [
       "<matplotlib.figure.Figure at 0x231f6b6cba8>"
      ]
     },
     "metadata": {},
     "output_type": "display_data"
    },
    {
     "name": "stdout",
     "output_type": "stream",
     "text": [
      "Max test accuracy: 0.90478515625\n",
      "Max train accuracy: 0.9847412109375\n"
     ]
    },
    {
     "data": {
      "text/plain": [
       "<matplotlib.figure.Figure at 0x231f6b6cba8>"
      ]
     },
     "metadata": {},
     "output_type": "display_data"
    }
   ],
   "source": [
    "train_loader = DataLoader(train_dataset, batch_size=1024, shuffle=True, num_workers=5)\n",
    "test_loader = DataLoader(test_dataset, batch_size=1024, shuffle=True, num_workers=5)\n",
    "\n",
    "acc = train(model, opt, loss_function, train_loader, test_loader, epoches=25, test_batches_ctn=8)\n",
    "print(\"Max test accuracy:\", max(acc[:, 1]))\n",
    "print(\"Max train accuracy:\", max(acc[:, 0]))"
   ]
  },
  {
   "cell_type": "code",
   "execution_count": null,
   "metadata": {},
   "outputs": [],
   "source": []
  },
  {
   "cell_type": "code",
   "execution_count": null,
   "metadata": {},
   "outputs": [],
   "source": []
  }
 ],
 "metadata": {
  "kernelspec": {
   "display_name": "Python 3",
   "language": "python",
   "name": "python3"
  },
  "language_info": {
   "codemirror_mode": {
    "name": "ipython",
    "version": 3
   },
   "file_extension": ".py",
   "mimetype": "text/x-python",
   "name": "python",
   "nbconvert_exporter": "python",
   "pygments_lexer": "ipython3",
   "version": "3.5.5"
  }
 },
 "nbformat": 4,
 "nbformat_minor": 2
}
